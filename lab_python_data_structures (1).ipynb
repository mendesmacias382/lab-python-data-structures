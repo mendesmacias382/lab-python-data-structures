{
  "cells": [
    {
      "cell_type": "markdown",
      "metadata": {
        "tags": [],
        "id": "n-l6NHQ07xPM"
      },
      "source": [
        "# Lab | Data Structures"
      ]
    },
    {
      "cell_type": "markdown",
      "metadata": {
        "id": "CjDbDVLj7xPP"
      },
      "source": [
        "## Exercise: Managing Customer Orders\n",
        "\n",
        "As part of a business venture, you are starting an online store that sells various products. To ensure smooth operations, you need to develop a program that manages customer orders and inventory.\n",
        "\n",
        "Follow the steps below to complete the exercise:\n",
        "\n",
        "1. Define a list called `products` that contains the following items: \"t-shirt\", \"mug\", \"hat\", \"book\", \"keychain\".\n",
        "\n",
        "2. Create an empty dictionary called `inventory`.\n",
        "\n",
        "3. Ask the user to input the quantity of each product available in the inventory. Use the product names from the `products` list as keys in the `inventory` dictionary and assign the respective quantities as values.\n",
        "\n",
        "4. Create an empty set called `customer_orders`.\n",
        "\n",
        "5. Ask the user to input the name of three products that a customer wants to order (from those in the products list, meaning three products out of \"t-shirt\", \"mug\", \"hat\", \"book\" or \"keychain\". Add each product name to the `customer_orders` set.\n",
        "\n",
        "6. Print the products in the `customer_orders` set.\n",
        "\n",
        "7. Calculate the following order statistics:\n",
        "   - Total Products Ordered: The total number of products in the `customer_orders` set.\n",
        "   - Percentage of Products Ordered: The percentage of products ordered compared to the total available products.\n",
        "   \n",
        "   Store these statistics in a tuple called `order_status`.\n",
        "\n",
        "8. Print the order statistics using the following format:\n",
        "   ```\n",
        "   Order Statistics:\n",
        "   Total Products Ordered: <total_products_ordered>\n",
        "   Percentage of Products Ordered: <percentage_ordered>%\n",
        "   ```\n",
        "\n",
        "9. Update the inventory by subtracting 1 from the quantity of each product. Modify the `inventory` dictionary accordingly.\n",
        "\n",
        "10. Print the updated inventory, displaying the quantity of each product on separate lines.\n",
        "\n",
        "Solve the exercise by implementing the steps using the Python concepts of lists, dictionaries, sets, and basic input/output operations."
      ]
    },
    {
      "cell_type": "code",
      "execution_count": 1,
      "metadata": {
        "colab": {
          "base_uri": "https://localhost:8080/"
        },
        "id": "KzeATar47xPQ",
        "outputId": "e4643b02-7e17-4378-e8ec-3fdce080d104"
      },
      "outputs": [
        {
          "output_type": "stream",
          "name": "stdout",
          "text": [
            "please say the quantity for the products t-shirt: 10\n",
            "please say the quantity for the products mug: 10\n",
            "please say the quantity for the products hat: 10\n",
            "please say the quantity for the products book: 10\n",
            "please say the quantity for the products keychain: 10\n",
            "{'t-shirt': 10, 'mug': 10, 'hat': 10, 'book': 10, 'keychain': 10}\n"
          ]
        }
      ],
      "source": [
        "#Define a list called products that contains the following items: \"t-shirt\", \"mug\", \"hat\", \"book\", \"keychain\".\n",
        "\n",
        "#Create an empty dictionary called inventory.\n",
        "\n",
        "#Ask the user to input the quantity of each product available in the inventory.\n",
        "#Use the product names from the products list as keys in the inventory dictionary and assign the respective quantities as values.\n",
        "\n",
        "\n",
        "\n",
        "products = [\"t-shirt\", \"mug\", \"hat\", \"book\", \"keychain\"]\n",
        "\n",
        "inventory = {}\n",
        "\n",
        "for product in products :\n",
        "  quantity = int(input(f\"please say the quantity for the products {product}: \"))\n",
        "\n",
        "  inventory[product] = quantity\n",
        "\n",
        "print(inventory)\n"
      ]
    },
    {
      "cell_type": "code",
      "source": [
        "#Create an empty set called customer_orders.\n",
        "#Ask the user to input the name of three products that a customer wants to order (from those in the products list, meaning three products out of \"t-shirt\", \"mug\", \"hat\", \"book\" or \"keychain\".\n",
        "#Add each product name to the customer_orders set.\n",
        "\n",
        "#Print the products in the customer_orders set.\n",
        "\n",
        "\n",
        "products = ['t-shirt', 'mug', 'hat', 'book', 'keychain']\n",
        "\n",
        "customer_orders = set()\n",
        "\n",
        "for product in range(3):\n",
        "\n",
        "    product_name = input('Please enter the name of the product')\n",
        "\n",
        "    while product_name.lower() not in products:\n",
        "        product_name = input('Please enter the name of the product, was wrong before')\n",
        "        if product_name in products:\n",
        "            customer_orders.add(product_name.lower())\n",
        "    else:\n",
        "        customer_orders.add(product_name.lower())\n",
        "\n",
        "\n",
        "print('Costumer orders are: ', customer_orders)"
      ],
      "metadata": {
        "colab": {
          "base_uri": "https://localhost:8080/"
        },
        "id": "t9W-_Py5bfeF",
        "outputId": "a2f1018d-28f6-4909-fb83-d99b5ba057ae"
      },
      "execution_count": 2,
      "outputs": [
        {
          "output_type": "stream",
          "name": "stdout",
          "text": [
            "Please enter the name of the productmug\n",
            "Please enter the name of the producthat\n",
            "Please enter the name of the productbook\n",
            "Costumer orders are:  {'book', 'mug', 'hat'}\n"
          ]
        }
      ]
    },
    {
      "cell_type": "code",
      "source": [
        "#7 Calculate the following order statistics:\n",
        "\n",
        "#Total Products Ordered: The total number of products in the customer_orders set.\n",
        "#Percentage of Products Ordered: The percentage of products ordered compared to the total available products.\n",
        "#Store these statistics in a tuple called order_status.\n",
        "\n",
        "\n",
        "print('The products ordered ', len(customer_orders))\n",
        "\n",
        "\n",
        "\n",
        "total_inventory = sum(inventory.values())\n",
        "print(total_inventory)\n",
        "\n",
        "total_products_ordered = len(customer_orders)\n",
        "available_products = sum(inventory.values())\n",
        "percentage_ordered = (total_products_ordered / available_products) * 100\n",
        "\n",
        "print(percentage_ordered)\n",
        "#Store these statistics in a tuple called order_statusp\n",
        "\n",
        "type(percentage_ordered)"
      ],
      "metadata": {
        "colab": {
          "base_uri": "https://localhost:8080/"
        },
        "id": "QdI20ue2bnOv",
        "outputId": "9ae8cf00-2bdc-413c-c28c-cc8e8c5ceb56"
      },
      "execution_count": 6,
      "outputs": [
        {
          "output_type": "stream",
          "name": "stdout",
          "text": [
            "The products ordered  3\n",
            "50\n",
            "6.0\n"
          ]
        },
        {
          "output_type": "execute_result",
          "data": {
            "text/plain": [
              "float"
            ]
          },
          "metadata": {},
          "execution_count": 6
        }
      ]
    },
    {
      "cell_type": "code",
      "source": [
        "#Store these statistics in a tuple called order_statusp\n",
        "\n",
        "order_status = (available_products, percentage_ordered)\n",
        "print(order_status)"
      ],
      "metadata": {
        "colab": {
          "base_uri": "https://localhost:8080/"
        },
        "id": "h9BZ-Ghobr_S",
        "outputId": "cd80b33c-1220-4be5-89ed-cfee2e3d5063"
      },
      "execution_count": 7,
      "outputs": [
        {
          "output_type": "stream",
          "name": "stdout",
          "text": [
            "(50, 6.0)\n"
          ]
        }
      ]
    },
    {
      "cell_type": "code",
      "source": [
        "#8 Print the order statistics using the following format:\n",
        "\n",
        "#Order Statistics:\n",
        "#Total Products Ordered: <total_products_ordered>\n",
        "#Percentage of Products Ordered: <percentage_ordered>%\n",
        "#Update the inventory by subtracting 1 from the quantity of each product. Modify the inventory dictionary accordingly.\n",
        "\n",
        "#Print the updated inventory, displaying the quantity of each product on separate lines\n",
        "\n",
        "print(inventory)"
      ],
      "metadata": {
        "colab": {
          "base_uri": "https://localhost:8080/"
        },
        "id": "IkgDcwDBbyTq",
        "outputId": "f42f98b4-1938-47c2-cafe-3766c7dfa29b"
      },
      "execution_count": 8,
      "outputs": [
        {
          "output_type": "stream",
          "name": "stdout",
          "text": [
            "{'t-shirt': 10, 'mug': 10, 'hat': 10, 'book': 10, 'keychain': 10}\n"
          ]
        }
      ]
    },
    {
      "cell_type": "code",
      "source": [
        "for keyvalue in inventory:\n",
        "  inventory[keyvalue] -= 1\n",
        "\n",
        "print(inventory)"
      ],
      "metadata": {
        "colab": {
          "base_uri": "https://localhost:8080/"
        },
        "id": "E2hrKvjTb43p",
        "outputId": "c14192ea-0410-49eb-efcd-4a531644cc43"
      },
      "execution_count": 10,
      "outputs": [
        {
          "output_type": "stream",
          "name": "stdout",
          "text": [
            "{'t-shirt': 8, 'mug': 8, 'hat': 8, 'book': 8, 'keychain': 8}\n"
          ]
        }
      ]
    },
    {
      "cell_type": "code",
      "source": [
        "for key, value in inventory.items():\n",
        "  print(key,value)"
      ],
      "metadata": {
        "id": "kzne3wlXcB0U"
      },
      "execution_count": null,
      "outputs": []
    }
  ],
  "metadata": {
    "kernelspec": {
      "display_name": "Python 3 (ipykernel)",
      "language": "python",
      "name": "python3"
    },
    "language_info": {
      "codemirror_mode": {
        "name": "ipython",
        "version": 3
      },
      "file_extension": ".py",
      "mimetype": "text/x-python",
      "name": "python",
      "nbconvert_exporter": "python",
      "pygments_lexer": "ipython3",
      "version": "3.11.4"
    },
    "colab": {
      "provenance": []
    }
  },
  "nbformat": 4,
  "nbformat_minor": 0
}