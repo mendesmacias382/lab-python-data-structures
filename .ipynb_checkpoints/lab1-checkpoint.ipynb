{
 "cells": [
  {
   "cell_type": "code",
   "execution_count": 1,
   "metadata": {
    "colab": {
     "base_uri": "https://localhost:8080/"
    },
    "id": "yxOb6xVw2eer",
    "outputId": "6c6e6499-b57b-4985-ef2a-3e72b8b6ef1c"
   },
   "outputs": [
    {
     "name": "stdout",
     "output_type": "stream",
     "text": [
      "please say the quantity for the products t-shirt: 10\n",
      "please say the quantity for the products mug: 40\n",
      "please say the quantity for the products hat: 56\n",
      "please say the quantity for the products book: 50\n",
      "please say the quantity for the products keychain: 44\n",
      "{'t-shirt': 10, 'mug': 40, 'hat': 56, 'book': 50, 'keychain': 44}\n"
     ]
    }
   ],
   "source": [
    "products = [\"t-shirt\", \"mug\", \"hat\", \"book\", \"keychain\"]\n",
    "\n",
    "inventory = {}\n",
    "\n",
    "for product in products :\n",
    "  quantity = int(input(f\"please say the quantity for the products {product}: \"))\n",
    "\n",
    "  inventory[product] = quantity\n",
    "\n",
    "print(inventory)\n"
   ]
  },
  {
   "cell_type": "code",
   "execution_count": 2,
   "metadata": {
    "colab": {
     "base_uri": "https://localhost:8080/"
    },
    "id": "WBlDyCPIelBZ",
    "outputId": "475a9359-0995-431f-c826-c5a7ed7638eb"
   },
   "outputs": [
    {
     "name": "stdout",
     "output_type": "stream",
     "text": [
      "Please enter the name of the product :hat\n",
      "Please enter the name of the product :mug\n",
      "Please enter the name of the product :book\n",
      "Costumer orders are {'mug', 'hat', 'book'}\n"
     ]
    }
   ],
   "source": [
    "products = [\"t-shirt\", \"mug\", \"hat\", \"book\", \"keychain\"]\n",
    "\n",
    "inventory = {}\n",
    "customer_orders = set()\n",
    "for product in range(3):\n",
    "    product_name = input('Please enter the name of the product :')         # em vez de\n",
    "    while product_name.lower() not in products:\n",
    "        product_name = input('Please enter the name of the product, was wrong b4')\n",
    "        if product_name in products:\n",
    "          customer_orders.add(product_name.lower())\n",
    "    else:\n",
    "      customer_orders.add(product_name.lower())\n",
    "print('Costumer orders are', customer_orders)\n"
   ]
  },
  {
   "cell_type": "code",
   "execution_count": 26,
   "metadata": {
    "colab": {
     "base_uri": "https://localhost:8080/"
    },
    "id": "EQLNCPi1wR7q",
    "outputId": "a94eea44-38bb-4c8a-a4c6-3c014b323ff0"
   },
   "outputs": [
    {
     "name": "stdout",
     "output_type": "stream",
     "text": [
      "<built-in method values of dict object at 0x7b0485411f40>\n"
     ]
    }
   ],
   "source": [
    "print(inventory.values)\n"
   ]
  },
  {
   "cell_type": "code",
   "execution_count": null,
   "metadata": {
    "id": "81CzDx-mltaD"
   },
   "outputs": [],
   "source": [
    "#Calculate the following order statistics:\n",
    "\n",
    "#Total Products Ordered: The total number of products in the customer_orders set.\n",
    "#Percentage of Products Ordered: The percentage of products ordered compared to the total available products.\n",
    "#Store these statistics in a tuple called order_status\n",
    "\n",
    "total_products_ordered = len(customer_orders)\n",
    "available_products = sum(inventory.values()) # Não percebo porque não me está a somar os valores dos values????\n",
    "percentage_ordered = (total_products_ordered / available_products) * 100\n",
    "\n",
    "#Store these statistics in a tuple called order_status\n",
    "order_status = (total_products_ordered, percentage_ordered)"
   ]
  }
 ],
 "metadata": {
  "colab": {
   "provenance": []
  },
  "kernelspec": {
   "display_name": "Python 3 (ipykernel)",
   "language": "python",
   "name": "python3"
  },
  "language_info": {
   "codemirror_mode": {
    "name": "ipython",
    "version": 3
   },
   "file_extension": ".py",
   "mimetype": "text/x-python",
   "name": "python",
   "nbconvert_exporter": "python",
   "pygments_lexer": "ipython3",
   "version": "3.11.4"
  }
 },
 "nbformat": 4,
 "nbformat_minor": 1
}
